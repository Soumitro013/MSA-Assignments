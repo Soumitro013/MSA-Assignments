{
 "cells": [
  {
   "cell_type": "markdown",
   "id": "d8d4a231",
   "metadata": {},
   "source": [
    "**Python Assinment(1) by Soumitro Mukherjee"
   ]
  },
  {
   "cell_type": "markdown",
   "id": "ddc9ae03",
   "metadata": {},
   "source": [
    "**1) Ask user to input his/her name and age. Construct a string using this information."
   ]
  },
  {
   "cell_type": "code",
   "execution_count": 38,
   "id": "b74becf6",
   "metadata": {},
   "outputs": [
    {
     "name": "stdout",
     "output_type": "stream",
     "text": [
      "Enter Your Name : Soumitro Mukherjee\n",
      "Enter Your Age : 21\n",
      "Name : Soumitro Mukherjee, Age : 21\n"
     ]
    }
   ],
   "source": [
    "name = input(\"Enter Your Name : \")\n",
    "age = input(\"Enter Your Age : \")\n",
    "details = \"Name : \"+name+\", \"+\"Age : \"+age   #Using String_Concatination\n",
    "print(details)"
   ]
  },
  {
   "cell_type": "markdown",
   "id": "87f78cb0",
   "metadata": {},
   "source": [
    "**2) Ask for necessary inputs from the user and calculate the following:\n",
    "    a) Simple interest\n",
    "    b) Compound Interest\n",
    "    c) Convert Celsius temperature to Fahrenheit.\n",
    "    d) Area of a circle from its radius.\n",
    "    e) Take any input and increment that input."
   ]
  },
  {
   "cell_type": "code",
   "execution_count": 12,
   "id": "b3d910f2",
   "metadata": {},
   "outputs": [
    {
     "name": "stdout",
     "output_type": "stream",
     "text": [
      "Enter Principal Amount : 8920\n",
      "Enter Rate of Interest(in %) : 3.8\n",
      "Enter no. of months : 17\n",
      "Interest : 480.19\n"
     ]
    }
   ],
   "source": [
    "#Simple Interest\n",
    "p=float(input(\"Enter Principal Amount : \"))\n",
    "r=float(input(\"Enter Rate of Interest(in %) : \"))\n",
    "t=int(input(\"Enter no. of months : \"))\n",
    "t/=12\n",
    "I=p*r*t/100\n",
    "print(\"Interest : %.2f\"%I)"
   ]
  },
  {
   "cell_type": "code",
   "execution_count": 5,
   "id": "d4a5bdc5",
   "metadata": {},
   "outputs": [
    {
     "name": "stdout",
     "output_type": "stream",
     "text": [
      "Enter Principal Amount : 8920\n",
      "Enter Rate of Interest(in %) : 3.8\n",
      "Enter no. of months : 17\n",
      "Interest : 483.97\n"
     ]
    }
   ],
   "source": [
    "#Compound Interest\n",
    "p=float(input(\"Enter Principal Amount : \"))\n",
    "r=float(input(\"Enter Rate of Interest(in %) : \"))\n",
    "t=int(input(\"Enter no. of months : \"))\n",
    "t/=12\n",
    "A = p*(1+r/100)**t\n",
    "A-=p\n",
    "print(\"Interest : %.2f\"%A)"
   ]
  },
  {
   "cell_type": "code",
   "execution_count": 62,
   "id": "e0ace6be",
   "metadata": {},
   "outputs": [
    {
     "name": "stdout",
     "output_type": "stream",
     "text": [
      "Enter Temperature(in °C) : 100\n",
      "212.0 °F\n"
     ]
    }
   ],
   "source": [
    "#Celcius to Fahrenheit Conversion\n",
    "temp1=float(input(\"Enter Temperature(in °C) : \"))\n",
    "temp2=temp1*9/5+32   #Conversion from Celcius to Fahrenheit\n",
    "print(temp2,\"°F\")"
   ]
  },
  {
   "cell_type": "code",
   "execution_count": 21,
   "id": "d4fc20a0",
   "metadata": {},
   "outputs": [
    {
     "name": "stdout",
     "output_type": "stream",
     "text": [
      "Enter radius of the given Circle : 10\n",
      "314.16 sq.unit\n"
     ]
    }
   ],
   "source": [
    "#Area of a circle from its radius\n",
    "import math\n",
    "R = float(input(\"Enter radius of the given Circle : \"))\n",
    "Area = (math.pi)*R**2\n",
    "print(\"%.2f\"%Area,\"sq.unit\")"
   ]
  },
  {
   "cell_type": "code",
   "execution_count": 63,
   "id": "96b84c1a",
   "metadata": {},
   "outputs": [
    {
     "name": "stdout",
     "output_type": "stream",
     "text": [
      "Enter any value : 31.13\n",
      "Increment by : 13.31\n",
      "31.13 to 44.44\n"
     ]
    }
   ],
   "source": [
    "#Take any input and increment that input\n",
    "val=float(input(\"Enter any value : \"))\n",
    "inc=float(input(\"Increment by : \"))\n",
    "u_val=val+inc\n",
    "print(val,\"to\",u_val)"
   ]
  },
  {
   "cell_type": "markdown",
   "id": "5aae54ce",
   "metadata": {},
   "source": [
    "**3)Input : Jack and Jill went up the hill, To fetch a pail of water. Jack fell down and broke his crown, And Jill came tumbling after.\n",
    "    Desired Output :\n",
    "        Jack and Jill went up the hill,\n",
    "        To fetch a pail of water.\n",
    "        Jack fell down and broke his crown,\n",
    "        And Jill came tumbling after."
   ]
  },
  {
   "cell_type": "code",
   "execution_count": 64,
   "id": "dc56303f",
   "metadata": {},
   "outputs": [
    {
     "name": "stdout",
     "output_type": "stream",
     "text": [
      "Jack and Jill went up the hill,\n",
      "To fetch a pail of water.\n",
      "Jack fell down and broke his crown,\n",
      "And Jill came tumbling after.\n"
     ]
    }
   ],
   "source": [
    "str_given = \"Jack and Jill went up the hill, To fetch a pail of water. Jack fell down and broke his crown, And Jill came tumbling after.\"\n",
    "str_new = str_given.replace(\", \",\",\\n\")\n",
    "str_new = str_new.replace(\". \",\".\\n\")\n",
    "print(str_new)"
   ]
  },
  {
   "cell_type": "markdown",
   "id": "1d36f468",
   "metadata": {},
   "source": [
    "**4) Write a python code to display current time."
   ]
  },
  {
   "cell_type": "code",
   "execution_count": 2,
   "id": "136dde4c",
   "metadata": {},
   "outputs": [
    {
     "name": "stdout",
     "output_type": "stream",
     "text": [
      "00:29:24\n"
     ]
    }
   ],
   "source": [
    "import time\n",
    "t = time.localtime()\n",
    "current_time = time.strftime(\"%H:%M:%S\", t)\n",
    "print(current_time)"
   ]
  },
  {
   "cell_type": "markdown",
   "id": "260dee79",
   "metadata": {},
   "source": [
    "**5) Write a Python program to display the first and last colors from the following list.\n",
    "color_list = [\"Red\",\"Green\",\"White\" ,\"Black\"]"
   ]
  },
  {
   "cell_type": "code",
   "execution_count": 37,
   "id": "ba781cc3",
   "metadata": {},
   "outputs": [
    {
     "name": "stdout",
     "output_type": "stream",
     "text": [
      "Red Black\n"
     ]
    }
   ],
   "source": [
    "color_list = [\"Red\",\"Green\",\"White\" ,\"Black\"]\n",
    "print(color_list[0],color_list[-1])"
   ]
  },
  {
   "cell_type": "markdown",
   "id": "e26f8a39",
   "metadata": {},
   "source": [
    "**6) Write a Python program that accepts an integer (n) and computes the value : a)n+nn+nnn , b)n+n^2+n^3 ."
   ]
  },
  {
   "cell_type": "code",
   "execution_count": 65,
   "id": "193a0e11",
   "metadata": {},
   "outputs": [
    {
     "name": "stdout",
     "output_type": "stream",
     "text": [
      "2\n",
      "246 \n",
      " 14\n"
     ]
    }
   ],
   "source": [
    "n = int(input())\n",
    "dig_sum = n+(n*10+n)+(10*(n*10+n)+n)   #n+nn+nnn\n",
    "pow_sum = n+n**2+n**3                 #n+n^2+n^3\n",
    "print(dig_sum,\"\\n\",pow_sum)"
   ]
  },
  {
   "cell_type": "markdown",
   "id": "16fc0ae8",
   "metadata": {},
   "source": [
    "**7) What is syntax error? Create 3 different types of syntax error in your code. Address the errors and fix them."
   ]
  },
  {
   "cell_type": "markdown",
   "id": "0ca79653",
   "metadata": {},
   "source": [
    "Syntax Errors : A type of error that arises for using improper syntax(s) while writing the program statement(s) in a particular programming language."
   ]
  },
  {
   "cell_type": "code",
   "execution_count": 54,
   "id": "b60b112b",
   "metadata": {
    "scrolled": true
   },
   "outputs": [
    {
     "ename": "IndentationError",
     "evalue": "expected an indented block (<ipython-input-54-e54071cfe67a>, line 3)",
     "output_type": "error",
     "traceback": [
      "\u001b[1;36m  File \u001b[1;32m\"<ipython-input-54-e54071cfe67a>\"\u001b[1;36m, line \u001b[1;32m3\u001b[0m\n\u001b[1;33m    print(True)\u001b[0m\n\u001b[1;37m    ^\u001b[0m\n\u001b[1;31mIndentationError\u001b[0m\u001b[1;31m:\u001b[0m expected an indented block\n"
     ]
    }
   ],
   "source": [
    "#Indentation Error\n",
    "if True:\n",
    "print(True)"
   ]
  },
  {
   "cell_type": "code",
   "execution_count": 59,
   "id": "40280361",
   "metadata": {},
   "outputs": [
    {
     "name": "stdout",
     "output_type": "stream",
     "text": [
      "True\n"
     ]
    }
   ],
   "source": [
    "if True:\n",
    "    print(True)"
   ]
  },
  {
   "cell_type": "code",
   "execution_count": 55,
   "id": "91a5865e",
   "metadata": {},
   "outputs": [
    {
     "ename": "NameError",
     "evalue": "name 'Print' is not defined",
     "output_type": "error",
     "traceback": [
      "\u001b[1;31m---------------------------------------------------------------------------\u001b[0m",
      "\u001b[1;31mNameError\u001b[0m                                 Traceback (most recent call last)",
      "\u001b[1;32m<ipython-input-55-0823b0e2343b>\u001b[0m in \u001b[0;36m<module>\u001b[1;34m\u001b[0m\n\u001b[0;32m      1\u001b[0m \u001b[1;31m#Misspelling Error\u001b[0m\u001b[1;33m\u001b[0m\u001b[1;33m\u001b[0m\u001b[1;33m\u001b[0m\u001b[0m\n\u001b[0;32m      2\u001b[0m \u001b[1;32mif\u001b[0m \u001b[1;32mTrue\u001b[0m\u001b[1;33m:\u001b[0m\u001b[1;33m\u001b[0m\u001b[1;33m\u001b[0m\u001b[0m\n\u001b[1;32m----> 3\u001b[1;33m     \u001b[0mPrint\u001b[0m\u001b[1;33m(\u001b[0m\u001b[1;32mTrue\u001b[0m\u001b[1;33m)\u001b[0m\u001b[1;33m\u001b[0m\u001b[1;33m\u001b[0m\u001b[0m\n\u001b[0m",
      "\u001b[1;31mNameError\u001b[0m: name 'Print' is not defined"
     ]
    }
   ],
   "source": [
    "#Misspelling Error\n",
    "if True:\n",
    "    Print(True)"
   ]
  },
  {
   "cell_type": "code",
   "execution_count": 57,
   "id": "7d5d15f8",
   "metadata": {},
   "outputs": [
    {
     "name": "stdout",
     "output_type": "stream",
     "text": [
      "True\n"
     ]
    }
   ],
   "source": [
    "if True:\n",
    "    print(True)"
   ]
  },
  {
   "cell_type": "code",
   "execution_count": 56,
   "id": "c7223490",
   "metadata": {},
   "outputs": [
    {
     "ename": "SyntaxError",
     "evalue": "invalid syntax (<ipython-input-56-c42e4e0849d8>, line 2)",
     "output_type": "error",
     "traceback": [
      "\u001b[1;36m  File \u001b[1;32m\"<ipython-input-56-c42e4e0849d8>\"\u001b[1;36m, line \u001b[1;32m2\u001b[0m\n\u001b[1;33m    if True\u001b[0m\n\u001b[1;37m           ^\u001b[0m\n\u001b[1;31mSyntaxError\u001b[0m\u001b[1;31m:\u001b[0m invalid syntax\n"
     ]
    }
   ],
   "source": [
    "#Missing Error\n",
    "if True\n",
    "    print(True)"
   ]
  },
  {
   "cell_type": "code",
   "execution_count": 58,
   "id": "74888346",
   "metadata": {},
   "outputs": [
    {
     "name": "stdout",
     "output_type": "stream",
     "text": [
      "True\n"
     ]
    }
   ],
   "source": [
    "if True:\n",
    "    print(True)"
   ]
  },
  {
   "cell_type": "markdown",
   "id": "a3c7f9e2",
   "metadata": {},
   "source": [
    "**8) Write a program that converts the following strings to lowercase: \"Animals\",\"Badger\",\"Honey Bee\",\"Honey Badger\".\n",
    "Print each lowercase string on a separate line."
   ]
  },
  {
   "cell_type": "code",
   "execution_count": 67,
   "id": "819d364f",
   "metadata": {},
   "outputs": [
    {
     "name": "stdout",
     "output_type": "stream",
     "text": [
      "animals\n",
      "badger\n",
      "honey bee\n",
      "honey badger\n"
     ]
    }
   ],
   "source": [
    "strg = [\"Animals\",\"Badger\",\"Honey Bee\",\"Honey Badger\"]\n",
    "new_string_list = [print(i.lower()) for i in strg]     #List_Comprehension\n",
    "                                                      #Dada, here I have used List Comprehension to execute the program.\n",
    "                                                     #Previously I learnt python a little bit, that's why I thought to apply this.\n",
    "                                                    #I'm not intented to showoff, I just tried in an unique way,Please don't be offended🙏🏽."
   ]
  },
  {
   "cell_type": "markdown",
   "id": "d7d8647b",
   "metadata": {},
   "source": [
    "**9) Create a string object and an integer object, then display them side by side with a single print statement."
   ]
  },
  {
   "cell_type": "code",
   "execution_count": 29,
   "id": "4131604a",
   "metadata": {},
   "outputs": [
    {
     "name": "stdout",
     "output_type": "stream",
     "text": [
      "Soumitro 21\n"
     ]
    }
   ],
   "source": [
    "string_obj = \"Soumitro\"\n",
    "int_obj = 21\n",
    "print(string_obj,int_obj)"
   ]
  },
  {
   "cell_type": "markdown",
   "id": "3749d33b",
   "metadata": {},
   "source": [
    "**10) Create a float object named weight with the value 0.2, and create a string object named animal with the value \"newt\".\n",
    "Then use these objects to print the following string using only string concatenation: - 0.2kg is the weight of the newt.\n",
    "Display the same string by using placeholders and f-string."
   ]
  },
  {
   "cell_type": "code",
   "execution_count": 5,
   "id": "809748c1",
   "metadata": {},
   "outputs": [
    {
     "name": "stdout",
     "output_type": "stream",
     "text": [
      "0.2kg is the weight of the newt.\n",
      "0.2kg is the weight of the newt.\n"
     ]
    }
   ],
   "source": [
    "weight = 0.2         #Float\n",
    "animal = 'newt'     #String\n",
    "weight=str(weight) #String\n",
    "str_conc = weight+\"kg is the weight of the \"+animal+\".\"   #String Concatination\n",
    "print(str_conc)\n",
    "print(f'{weight}kg is the weight of the {animal}.')"
   ]
  }
 ],
 "metadata": {
  "kernelspec": {
   "display_name": "Python 3",
   "language": "python",
   "name": "python3"
  },
  "language_info": {
   "codemirror_mode": {
    "name": "ipython",
    "version": 3
   },
   "file_extension": ".py",
   "mimetype": "text/x-python",
   "name": "python",
   "nbconvert_exporter": "python",
   "pygments_lexer": "ipython3",
   "version": "3.8.8"
  }
 },
 "nbformat": 4,
 "nbformat_minor": 5
}
