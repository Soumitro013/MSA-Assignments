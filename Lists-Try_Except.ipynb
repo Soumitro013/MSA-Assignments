{
 "cells": [
  {
   "cell_type": "code",
   "execution_count": 34,
   "id": "ee8f11bf-e7c6-469b-8262-7a92aec6bc0d",
   "metadata": {},
   "outputs": [
    {
     "name": "stdout",
     "output_type": "stream",
     "text": [
      "['alpha', 'beta', 'gamma', 'delta', 'theta', 'sigma', 'pi', 'epsilon', 'omega']\n",
      "['omega', 'epsilon', 'pi', 'sigma', 'theta', 'delta', 'gamma', 'beta', 'alpha']\n"
     ]
    }
   ],
   "source": [
    "# my_list\n",
    "my_list=['alpha','beta','gamma','delta','theta','sigma','pi','epsilon','omega']\n",
    "print(my_list)\n",
    "#reverse my_list\n",
    "print(my_list[::-1])"
   ]
  },
  {
   "cell_type": "code",
   "execution_count": 35,
   "id": "ce1bad03-4b28-426b-a5ee-7d7748905ef7",
   "metadata": {},
   "outputs": [
    {
     "name": "stdout",
     "output_type": "stream",
     "text": [
      "['alpha', 'beta', 'delta', 'epsilon', 'gamma', 'omega', 'pi', 'sigma', 'theta']\n"
     ]
    }
   ],
   "source": [
    "#sorting my_list\n",
    "my_list.sort()\n",
    "print(my_list)"
   ]
  },
  {
   "cell_type": "code",
   "execution_count": 42,
   "id": "1e72536d-7d89-42d9-af3a-daedcbf552b4",
   "metadata": {},
   "outputs": [
    {
     "name": "stdin",
     "output_type": "stream",
     "text": [
      "Enter non-zero value :  0\n"
     ]
    },
    {
     "name": "stdout",
     "output_type": "stream",
     "text": [
      "Error! try to enter non-zero value\n"
     ]
    }
   ],
   "source": [
    "#Exception\n",
    "val=int(input(\"Enter non-zero value : \"))\n",
    "try:\n",
    "    print(53/val)\n",
    "except:\n",
    "    print(\"Error! try to enter non-zero value\")"
   ]
  },
  {
   "cell_type": "code",
   "execution_count": null,
   "id": "fc25747c-a570-4290-9dab-67916115788d",
   "metadata": {},
   "outputs": [],
   "source": []
  }
 ],
 "metadata": {
  "kernelspec": {
   "display_name": "Python 3",
   "language": "python",
   "name": "python3"
  },
  "language_info": {
   "codemirror_mode": {
    "name": "ipython",
    "version": 3
   },
   "file_extension": ".py",
   "mimetype": "text/x-python",
   "name": "python",
   "nbconvert_exporter": "python",
   "pygments_lexer": "ipython3",
   "version": "3.8.8"
  }
 },
 "nbformat": 4,
 "nbformat_minor": 5
}
