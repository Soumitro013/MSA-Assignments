{
 "cells": [
  {
   "cell_type": "markdown",
   "id": "b0d95869",
   "metadata": {},
   "source": [
    "### Python Assignment on the basis of 07.04.2022 class :"
   ]
  },
  {
   "cell_type": "markdown",
   "id": "0b6dda21",
   "metadata": {},
   "source": [
    "#### 1. Write a python program to check whether a no is odd or even. [hints: even no are those who are divisible by 2 (6,10,40,etc) and (5,7,9,13) are odd numbers as because they are not divisible by 2. Use % operator concept] "
   ]
  },
  {
   "cell_type": "code",
   "execution_count": 59,
   "id": "5bc06f1e",
   "metadata": {},
   "outputs": [],
   "source": [
    "def takes_NonZeroInteger():\n",
    "    import sys\n",
    "    D=True\n",
    "    while D:\n",
    "        chk_val=input()\n",
    "        try:\n",
    "            int(chk_val)\n",
    "            13/int(chk_val)\n",
    "            D=False\n",
    "            chk_val=int(chk_val)\n",
    "            return chk_val\n",
    "        except ValueError:\n",
    "            print(\"You haven't entered an integer!\")\n",
    "        except ZeroDivisionError:\n",
    "            print(\"You haven't entered a non zero integer!\")"
   ]
  },
  {
   "cell_type": "code",
   "execution_count": 61,
   "id": "24f4c97b",
   "metadata": {},
   "outputs": [
    {
     "name": "stdout",
     "output_type": "stream",
     "text": [
      "jjkh\n",
      "You haven't entered an integer!\n",
      "2.78\n",
      "You haven't entered an integer!\n",
      "-2.359\n",
      "You haven't entered an integer!\n",
      "0.00\n",
      "You haven't entered an integer!\n",
      "0\n",
      "You haven't entered a non zero integer!\n",
      "7\n",
      "7 is Odd\n"
     ]
    }
   ],
   "source": [
    "chk_val=takes_NonZeroInteger()\n",
    "if chk_val%2 == 0:\n",
    "    print(chk_val,\"is Even\")\n",
    "else:\n",
    "    print(chk_val,\"is Odd\")"
   ]
  },
  {
   "cell_type": "markdown",
   "id": "5c6b3c2d",
   "metadata": {},
   "source": [
    "#### 2. Write a Python script to print the grade of a Student based on gpa.\n",
    "#### (suppose you got 9.2, you have to print \"You got A++\")\n",
    "#### Grade range:\n",
    "#### 9-10: A++\n",
    "#### 8-9: A+\n",
    "#### 7-8: A\n",
    "#### 6-7: B+\n",
    "#### 5-6: B\n",
    "#### 4-5: C\n",
    "#### 3-4: P\n",
    "#### <3: F"
   ]
  },
  {
   "cell_type": "code",
   "execution_count": 62,
   "id": "3bea13d6",
   "metadata": {},
   "outputs": [
    {
     "name": "stdout",
     "output_type": "stream",
     "text": [
      "kl\n",
      "Opps!\n",
      "-4.6\n",
      "Are You Kidding!\n",
      "0\n",
      "Are You Kidding!\n",
      "12\n",
      "Are You Kidding!\n",
      "9.2\n",
      "You got A++\n"
     ]
    }
   ],
   "source": [
    "import sys\n",
    "D = True\n",
    "while D:\n",
    "    gpa = input()\n",
    "    try:\n",
    "        float(gpa)\n",
    "        gpa = float(gpa)\n",
    "        if (gpa > 0)and(gpa <= 10):\n",
    "            D = False\n",
    "        else:\n",
    "            print('Are You Kidding!')\n",
    "    except ValueError:\n",
    "        print('Opps!')\n",
    "if gpa>=3:\n",
    "    if gpa>=4:\n",
    "        if gpa>=5:\n",
    "            if gpa>=6:\n",
    "                if gpa>=7:\n",
    "                    if gpa>=8:\n",
    "                        if gpa>=9:\n",
    "                            G = 'A++'\n",
    "                        else:\n",
    "                            G = 'A+'\n",
    "                    else:\n",
    "                        G = 'A'\n",
    "                else:\n",
    "                    G = 'B+'\n",
    "            else:\n",
    "                G = 'B'\n",
    "        else:\n",
    "            G = 'C'\n",
    "    else:\n",
    "        G = 'P'\n",
    "else:\n",
    "    G = 'F'\n",
    "print('You got',G)"
   ]
  }
 ],
 "metadata": {
  "kernelspec": {
   "display_name": "Python 3",
   "language": "python",
   "name": "python3"
  },
  "language_info": {
   "codemirror_mode": {
    "name": "ipython",
    "version": 3
   },
   "file_extension": ".py",
   "mimetype": "text/x-python",
   "name": "python",
   "nbconvert_exporter": "python",
   "pygments_lexer": "ipython3",
   "version": "3.8.8"
  }
 },
 "nbformat": 4,
 "nbformat_minor": 5
}
